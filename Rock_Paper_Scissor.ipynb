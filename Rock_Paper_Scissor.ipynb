{
  "nbformat": 4,
  "nbformat_minor": 0,
  "metadata": {
    "colab": {
      "provenance": [],
      "authorship_tag": "ABX9TyNglpWTidlGueilEhToErpK",
      "include_colab_link": true
    },
    "kernelspec": {
      "name": "python3",
      "display_name": "Python 3"
    },
    "language_info": {
      "name": "python"
    }
  },
  "cells": [
    {
      "cell_type": "markdown",
      "metadata": {
        "id": "view-in-github",
        "colab_type": "text"
      },
      "source": [
        "<a href=\"https://colab.research.google.com/github/RidhamSharma7/Rock-Paper-Scissor-Start/blob/main/Rock_Paper_Scissor.ipynb\" target=\"_parent\"><img src=\"https://colab.research.google.com/assets/colab-badge.svg\" alt=\"Open In Colab\"/></a>"
      ]
    },
    {
      "cell_type": "code",
      "execution_count": null,
      "metadata": {
        "id": "l6wVor_8_-Hv"
      },
      "outputs": [],
      "source": [
        "x=int(input('Type 0 to choose rock , 1 to choose paper and 2 to choose scissors'))\n",
        "print('YOU CHOSE:',x)\n",
        "choices=['0','1','2']\n",
        "\n",
        "if x=='0':\n",
        "  print('ROCK')\n",
        "elif x=='1':\n",
        "  print('PAPER')\n",
        "elif x=='2':\n",
        "  print('SCISSORS')\n",
        "else:\n",
        "  print('INVALID')\n",
        "import random\n",
        "y=random.choice(choices)\n",
        "print('COMPUTER CHOSE:',y)\n",
        "if y=='0':\n",
        "  print('ROCK')\n",
        "elif y=='1':\n",
        "  print('PAPER')\n",
        "elif y=='2':\n",
        "  print('SCISSORS')\n",
        "if x==y:\n",
        "  print('TIE')\n",
        "elif x=='0' and y=='1':\n",
        "  print('YOU LOSE')\n",
        "elif x=='1' and y=='2':\n",
        "  print('YOU LOSE')\n",
        "elif x=='2' and y=='0':\n",
        "  print('YOU LOSE')\n",
        "elif x=='0' and y=='2':\n",
        "  print('YOU WIN')\n",
        "elif x=='1' and y=='0':\n",
        "  print('YOU WIN')\n",
        "elif x=='2' and y=='1':\n",
        "  print('YOU WIN')\n"
      ]
    }
  ]
}