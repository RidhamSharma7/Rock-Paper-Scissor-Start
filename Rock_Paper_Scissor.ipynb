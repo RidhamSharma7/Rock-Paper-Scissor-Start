{
  "nbformat": 4,
  "nbformat_minor": 0,
  "metadata": {
    "colab": {
      "provenance": [],
      "authorship_tag": "ABX9TyMGskN+VOSta7XNzVW0HY2S",
      "include_colab_link": true
    },
    "kernelspec": {
      "name": "python3",
      "display_name": "Python 3"
    },
    "language_info": {
      "name": "python"
    }
  },
  "cells": [
    {
      "cell_type": "markdown",
      "metadata": {
        "id": "view-in-github",
        "colab_type": "text"
      },
      "source": [
        "<a href=\"https://colab.research.google.com/github/RidhamSharma7/Rock-Paper-Scissor-Start/blob/main/Rock_Paper_Scissor.ipynb\" target=\"_parent\"><img src=\"https://colab.research.google.com/assets/colab-badge.svg\" alt=\"Open In Colab\"/></a>"
      ]
    },
    {
      "cell_type": "code",
      "execution_count": 10,
      "metadata": {
        "colab": {
          "base_uri": "https://localhost:8080/"
        },
        "id": "l6wVor_8_-Hv",
        "outputId": "86e7d618-9729-4bfe-f5d4-fa6264480e5d"
      },
      "outputs": [
        {
          "output_type": "stream",
          "name": "stdout",
          "text": [
            "Type R to choose rock , P to choose paper and S to choose scissorsP\n",
            "YOU CHOSE: P\n",
            "PAPER\n",
            "COMPUTER CHOSE: P\n",
            "PAPER\n",
            "TIE\n"
          ]
        }
      ],
      "source": [
        "x=input('Type R to choose rock , P to choose paper and S to choose scissors')\n",
        "print('YOU CHOSE:',x)\n",
        "choices=['R','P','S']\n",
        "\n",
        "if x=='R':\n",
        "  print('ROCK')\n",
        "elif x=='P':\n",
        "  print('PAPER')\n",
        "elif x=='S':\n",
        "  print('SCISSORS')\n",
        "else:\n",
        "  print('INVALID')\n",
        "import random\n",
        "y=random.choice(choices)\n",
        "print('COMPUTER CHOSE:',y)\n",
        "if y=='R':\n",
        "  print('ROCK')\n",
        "elif y=='P':\n",
        "  print('PAPER')\n",
        "elif y=='S':\n",
        "  print('SCISSORS')\n",
        "if x==y:\n",
        "  print('TIE')\n",
        "elif x=='R' and y=='P':\n",
        "  print('YOU LOSE')\n",
        "elif x=='P' and y=='S':\n",
        "  print('YOU LOSE')\n",
        "elif x=='S' and y=='R':\n",
        "  print('YOU LOSE')\n",
        "elif x=='R' and y=='S':\n",
        "  print('YOU WIN')\n",
        "elif x=='P' and y=='R':\n",
        "  print('YOU WIN')\n",
        "elif x=='S' and y=='P':\n",
        "  print('YOU WIN')\n"
      ]
    }
  ]
}